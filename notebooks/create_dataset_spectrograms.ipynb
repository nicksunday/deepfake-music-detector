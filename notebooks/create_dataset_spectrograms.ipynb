{
 "cells": [
  {
   "cell_type": "code",
   "execution_count": null,
   "metadata": {},
   "outputs": [],
   "source": [
    "from pathlib import Path\n",
    "import csv\n",
    "import numpy as np\n",
    "import librosa, librosa.display\n",
    "import matplotlib.pyplot as plt\n",
    "%matplotlib inline\n",
    "import pandas as pd"
   ]
  },
  {
   "cell_type": "code",
   "execution_count": null,
   "metadata": {},
   "outputs": [],
   "source": [
    "fmc = Path(\"./FakeMusicCaps/\")"
   ]
  },
  {
   "cell_type": "code",
   "execution_count": null,
   "metadata": {},
   "outputs": [],
   "source": [
    "data_sets = [\n",
    "    \"MusicCaps\",\n",
    "    \"MusicGen_medium\",\n",
    "    \"SunoCaps\",\n",
    "    \"audioldm2\",\n",
    "    \"musicldm\",\n",
    "    \"mustango\",\n",
    "    \"stable_audio_open\",\n",
    "]"
   ]
  },
  {
   "cell_type": "code",
   "execution_count": null,
   "metadata": {},
   "outputs": [],
   "source": [
    "import os\n",
    "\n",
    "for ds in data_sets:\n",
    "    print(ds)\n",
    "    print(len(os.listdir(f'./FakeMusicCaps/{ds}')))\n",
    "    print()"
   ]
  },
  {
   "cell_type": "code",
   "execution_count": null,
   "metadata": {},
   "outputs": [],
   "source": [
    "\n",
    "for folder in data_sets:\n",
    "    folder_path = fmc / folder\n",
    "    for music in folder_path.glob('*.wav'):\n",
    "        y, sr = librosa.load(music)\n",
    "        plt.figure(figsize=(14, 5))\n",
    "        librosa.display.waveshow(y, sr=sr)\n",
    "        plt.show()\n",
    "        break"
   ]
  },
  {
   "cell_type": "code",
   "execution_count": null,
   "metadata": {},
   "outputs": [],
   "source": [
    "for folder in data_sets:\n",
    "    folder_path = fmc / folder\n",
    "    for music in folder_path.glob('*.wav'):\n",
    "        y, sr = librosa.load(music)\n",
    "        mel_signal = librosa.feature.melspectrogram(y=y, sr=sr)\n",
    "        spectrogram = np.abs(mel_signal)\n",
    "        power_to_db = librosa.power_to_db(spectrogram, ref=np.max)\n",
    "        plt.figure(figsize=(8, 7))\n",
    "        librosa.display.specshow(power_to_db, sr=sr, x_axis='time', y_axis='mel', cmap='magma')\n",
    "        plt.colorbar(label='dB')\n",
    "        plt.title('Mel-Spectrogram (dB)', fontdict=dict(size=18))\n",
    "        plt.xlabel('Time', fontdict=dict(size=15))\n",
    "        plt.ylabel('Frequency', fontdict=dict(size=15))\n",
    "        plt.show()\n",
    "        break"
   ]
  },
  {
   "cell_type": "markdown",
   "metadata": {},
   "source": [
    "### I need to split the data into test/train"
   ]
  },
  {
   "cell_type": "code",
   "execution_count": null,
   "metadata": {},
   "outputs": [],
   "source": [
    "from matplotlib.backends.backend_agg import FigureCanvasAgg as FigureCanvas\n",
    "import matplotlib\n",
    "matplotlib.use('agg')\n",
    "\n",
    "spectrogram_folder = Path('./Spectrograms/')\n",
    "spectrogram_folder.mkdir(exist_ok=True)\n",
    "\n",
    "for folder in data_sets:\n",
    "    count = 0\n",
    "    folder_path = fmc / folder\n",
    "    songs = list(folder_path.glob('*.wav'))\n",
    "    for music in folder_path.glob('*.wav'):\n",
    "        count += 1\n",
    "        # print(count, song)\n",
    "        destination_folder = Path(spectrogram_folder / folder)\n",
    "        destination_folder.mkdir(exist_ok=True)\n",
    "        y, sr = librosa.load(music)\n",
    "        mel_signal = librosa.feature.melspectrogram(y=y, sr=sr)\n",
    "        spectrogram = np.abs(mel_signal)\n",
    "        power_to_db = librosa.power_to_db(spectrogram, ref=np.max)\n",
    "        fig = plt.figure(figsize=(8, 7))\n",
    "        canvas = FigureCanvas(fig)\n",
    "        p = librosa.display.specshow(power_to_db, sr=sr, x_axis='time', y_axis='mel', cmap='magma')\n",
    "        fig.savefig(destination_folder / f\"{music.stem}.png\")\n",
    "        plt.close()"
   ]
  },
  {
   "cell_type": "code",
   "execution_count": null,
   "metadata": {},
   "outputs": [],
   "source": [
    "import gc\n",
    "gc.collect()"
   ]
  },
  {
   "cell_type": "code",
   "execution_count": null,
   "metadata": {},
   "outputs": [],
   "source": [
    "import os\n",
    "import shutil\n",
    "\n",
    "spectrogram_folder = Path('./Spectrograms/Spectrograms/')\n",
    "\n",
    "binary_spectrogram_folder = Path('./BinaryClassifiedSpectrograms/')\n",
    "binary_spectrogram_folder.mkdir(exist_ok=True)\n",
    "\n",
    "destination_folder = Path(binary_spectrogram_folder / \"deepfake\")\n",
    "destination_folder.mkdir(exist_ok=True)\n",
    "\n",
    "for folder in data_sets:\n",
    "    if folder != 'SunoCaps' and folder != 'MusicCaps':\n",
    "        folder_path = spectrogram_folder / folder\n",
    "        max_samples = len(os.listdir(spectrogram_folder / \"MusicCaps\")) * 0.2\n",
    "        count = 0\n",
    "        for spectrogram in folder_path.glob('*.png'):\n",
    "            if count > max_samples:\n",
    "                break\n",
    "            count += 1\n",
    "            shutil.copyfile(spectrogram, destination_folder / f\"{spectrogram.stem}_{folder}.png\")\n",
    "\n",
    "human_destination = Path(binary_spectrogram_folder / \"human\")\n",
    "human_destination.mkdir(exist_ok=True)\n",
    "\n",
    "folder_path = spectrogram_folder / \"MusicCaps\"\n",
    "for spectrogram in folder_path.glob('*.png'):\n",
    "    shutil.copyfile(spectrogram, human_destination / spectrogram.name)"
   ]
  },
  {
   "cell_type": "code",
   "execution_count": null,
   "metadata": {},
   "outputs": [],
   "source": [
    "for folder in [\"human\", \"deepfake\"]:\n",
    "    print(len(os.listdir(f'./BinaryClassifiedSpectrograms/{folder}')))"
   ]
  }
 ],
 "metadata": {
  "kernelspec": {
   "display_name": "research",
   "language": "python",
   "name": "python3"
  },
  "language_info": {
   "codemirror_mode": {
    "name": "ipython",
    "version": 3
   },
   "file_extension": ".py",
   "mimetype": "text/x-python",
   "name": "python",
   "nbconvert_exporter": "python",
   "pygments_lexer": "ipython3",
   "version": "3.11.10"
  }
 },
 "nbformat": 4,
 "nbformat_minor": 2
}
