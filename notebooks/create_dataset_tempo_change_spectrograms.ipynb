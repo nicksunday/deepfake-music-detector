{
 "cells": [
  {
   "cell_type": "code",
   "execution_count": null,
   "metadata": {},
   "outputs": [],
   "source": [
    "from pathlib import Path\n",
    "import csv\n",
    "import numpy as np\n",
    "import librosa, librosa.display\n",
    "import matplotlib.pyplot as plt\n",
    "%matplotlib inline\n",
    "import pandas as pd\n",
    "import soundfile as sf"
   ]
  },
  {
   "cell_type": "code",
   "execution_count": null,
   "metadata": {},
   "outputs": [],
   "source": [
    "fmc = Path(\"./FakeMusicCaps/FakeMusicCaps/\")"
   ]
  },
  {
   "cell_type": "code",
   "execution_count": null,
   "metadata": {},
   "outputs": [],
   "source": [
    "data_sets = [\n",
    "    \"MusicCaps\",\n",
    "    \"MusicGen_medium\",\n",
    "    \"audioldm2\",\n",
    "    \"musicldm\",\n",
    "    \"mustango\",\n",
    "    \"stable_audio_open\",\n",
    "]"
   ]
  },
  {
   "cell_type": "code",
   "execution_count": null,
   "metadata": {},
   "outputs": [],
   "source": [
    "import os\n",
    "\n",
    "for ds in data_sets:\n",
    "    print(ds)\n",
    "    # print(len(os.listdir(f'./FakeMusicCaps/{ds}')))\n",
    "    print(len(os.listdir(fmc / ds)))\n",
    "    print()"
   ]
  },
  {
   "cell_type": "code",
   "execution_count": null,
   "metadata": {},
   "outputs": [],
   "source": [
    "tempo_shifted_music_caps_folder = Path('./TempoShiftedFakeMusicCaps')\n",
    "tempo_shifted_music_caps_folder.mkdir(exist_ok=True)\n",
    "\n",
    "for folder in data_sets:\n",
    "    folder_path = fmc / folder\n",
    "    print(f\"Writing to {tempo_shifted_music_caps_folder / folder}\")\n",
    "    destination_folder = Path(tempo_shifted_music_caps_folder / folder)\n",
    "    destination_folder.mkdir(exist_ok=True)\n",
    "    for song in folder_path.glob('*.wav'):\n",
    "        y, sr = librosa.load(str(song))\n",
    "        low, high = 0.8, 1.2\n",
    "        rate = float((high - low) * np.random.rand() + low)\n",
    "        new_y = librosa.effects.time_stretch(y=y, rate=rate)\n",
    "        print(f\"\\tnew song{song.stem}.wav\")\n",
    "        sf.write(str(destination_folder / f\"{song.stem}.wav\"), new_y, sr, )\n",
    "        "
   ]
  },
  {
   "cell_type": "code",
   "execution_count": null,
   "metadata": {},
   "outputs": [],
   "source": [
    "from matplotlib.backends.backend_agg import FigureCanvasAgg as FigureCanvas\n",
    "import matplotlib\n",
    "matplotlib.use('agg')\n",
    "\n",
    "spectrogram_folder = Path('./TempoShiftedSpectrograms/')\n",
    "spectrogram_folder.mkdir(exist_ok=True)\n",
    "\n",
    "for folder in data_sets:\n",
    "    folder_path = tempo_shifted_music_caps_folder / folder\n",
    "    destination_folder = Path(spectrogram_folder / folder)\n",
    "    destination_folder.mkdir(exist_ok=True)\n",
    "    for music in folder_path.glob('*.wav'):\n",
    "        y, sr = librosa.load(str(music))\n",
    "        mel_signal = librosa.feature.melspectrogram(y=y, sr=sr)\n",
    "        spectrogram = np.abs(mel_signal)\n",
    "        power_to_db = librosa.power_to_db(spectrogram, ref=np.max)\n",
    "        fig = plt.figure(figsize=(8, 7))\n",
    "        canvas = FigureCanvas(fig)\n",
    "        p = librosa.display.specshow(power_to_db, sr=sr, x_axis='time', y_axis='mel', cmap='magma')\n",
    "        fig.savefig(destination_folder / f\"{music.stem}.png\")\n",
    "        plt.close()"
   ]
  },
  {
   "cell_type": "code",
   "execution_count": null,
   "metadata": {},
   "outputs": [],
   "source": [
    "import gc\n",
    "gc.collect()"
   ]
  },
  {
   "cell_type": "code",
   "execution_count": null,
   "metadata": {},
   "outputs": [],
   "source": [
    "import os\n",
    "import shutil\n",
    "\n",
    "spectrogram_folder = Path('./TempoShiftedSpectrograms/')\n",
    "\n",
    "binary_spectrogram_folder = Path('./TempoShiftedBinaryClassifiedSpectrograms/')\n",
    "binary_spectrogram_folder.mkdir(exist_ok=True)\n",
    "\n",
    "destination_folder = Path(binary_spectrogram_folder / \"deepfake\")\n",
    "destination_folder.mkdir(exist_ok=True)\n",
    "\n",
    "for folder in data_sets:\n",
    "    if folder != 'SunoCaps' and folder != 'MusicCaps':\n",
    "        folder_path = spectrogram_folder / folder\n",
    "        max_samples = len(os.listdir(spectrogram_folder / \"MusicCaps\")) * 0.2\n",
    "        count = 0\n",
    "        for spectrogram in folder_path.glob('*.png'):\n",
    "            if count > max_samples:\n",
    "                break\n",
    "            count += 1\n",
    "            shutil.copyfile(spectrogram, destination_folder / f\"{spectrogram.stem}_{folder}.png\")\n",
    "\n",
    "human_destination = Path(binary_spectrogram_folder / \"human\")\n",
    "human_destination.mkdir(exist_ok=True)\n",
    "\n",
    "folder_path = spectrogram_folder / \"MusicCaps\"\n",
    "for spectrogram in folder_path.glob('*.png'):\n",
    "    shutil.copyfile(spectrogram, human_destination / spectrogram.name)"
   ]
  },
  {
   "cell_type": "code",
   "execution_count": null,
   "metadata": {},
   "outputs": [],
   "source": [
    "for folder in [\"human\", \"deepfake\"]:\n",
    "    print(len(os.listdir(f'./BinaryClassifiedSpectrograms/{folder}')))"
   ]
  }
 ],
 "metadata": {
  "kernelspec": {
   "display_name": "research",
   "language": "python",
   "name": "python3"
  },
  "language_info": {
   "codemirror_mode": {
    "name": "ipython",
    "version": 3
   },
   "file_extension": ".py",
   "mimetype": "text/x-python",
   "name": "python",
   "nbconvert_exporter": "python",
   "pygments_lexer": "ipython3",
   "version": "3.11.10"
  }
 },
 "nbformat": 4,
 "nbformat_minor": 2
}
