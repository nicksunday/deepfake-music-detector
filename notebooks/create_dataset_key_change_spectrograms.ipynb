{
 "cells": [
  {
   "cell_type": "code",
   "execution_count": null,
   "metadata": {},
   "outputs": [],
   "source": [
    "from pathlib import Path\n",
    "import csv\n",
    "import numpy as np\n",
    "import librosa, librosa.display\n",
    "import matplotlib.pyplot as plt\n",
    "%matplotlib inline\n",
    "import pandas as pd\n",
    "import soundfile as sf"
   ]
  },
  {
   "cell_type": "code",
   "execution_count": null,
   "metadata": {},
   "outputs": [],
   "source": [
    "fmc = Path(\"./FakeMusicCaps/\")\n",
    "data_sets = [\n",
    "    \"MusicCaps\",\n",
    "    \"MusicGen_medium\",\n",
    "    \"SunoCaps\",\n",
    "    \"audioldm2\",\n",
    "    \"musicldm\",\n",
    "    \"mustango\",\n",
    "    \"stable_audio_open\",\n",
    "]"
   ]
  },
  {
   "cell_type": "code",
   "execution_count": null,
   "metadata": {},
   "outputs": [],
   "source": [
    "import os\n",
    "\n",
    "for ds in data_sets:\n",
    "    print(ds)\n",
    "    print(len(os.listdir(f'./FakeMusicCaps/{ds}')))\n",
    "    print()"
   ]
  },
  {
   "cell_type": "code",
   "execution_count": null,
   "metadata": {},
   "outputs": [],
   "source": [
    "y, sr = librosa.load(fmc / \"SunoCaps/1.wav\")"
   ]
  },
  {
   "cell_type": "code",
   "execution_count": null,
   "metadata": {},
   "outputs": [],
   "source": [
    "plt.figure(figsize=(14, 5))\n",
    "librosa.display.waveshow(y, sr=sr)\n",
    "plt.show()\n",
    "plt.close()"
   ]
  },
  {
   "cell_type": "code",
   "execution_count": null,
   "metadata": {},
   "outputs": [],
   "source": [
    "\n",
    "print(sr)\n",
    "print(y)"
   ]
  },
  {
   "cell_type": "code",
   "execution_count": null,
   "metadata": {},
   "outputs": [],
   "source": [
    "# Viewing waveforms\n",
    "for folder in data_sets:\n",
    "    folder_path = fmc / folder\n",
    "    for music in folder_path.glob('*.wav'):\n",
    "        y, sr = librosa.load(music)\n",
    "        plt.figure(figsize=(14, 5))\n",
    "        librosa.display.waveshow(y, sr=sr)\n",
    "        plt.show()\n",
    "        break"
   ]
  },
  {
   "cell_type": "code",
   "execution_count": null,
   "metadata": {},
   "outputs": [],
   "source": [
    "# For viewing spectrograms\n",
    "for folder in data_sets:\n",
    "    folder_path = fmc / folder\n",
    "    for music in folder_path.glob('*.wav'):\n",
    "        y, sr = librosa.load(music)\n",
    "        mel_signal = librosa.feature.melspectrogram(y=y, sr=sr)\n",
    "        spectrogram = np.abs(mel_signal)\n",
    "        power_to_db = librosa.power_to_db(spectrogram, ref=np.max)\n",
    "        plt.figure(figsize=(8, 7))\n",
    "        librosa.display.specshow(power_to_db, sr=sr, x_axis='time', y_axis='mel', cmap='magma')\n",
    "        plt.colorbar(label='dB')\n",
    "        plt.title('Mel-Spectrogram (dB)', fontdict=dict(size=18))\n",
    "        plt.xlabel('Time', fontdict=dict(size=15))\n",
    "        plt.ylabel('Frequency', fontdict=dict(size=15))\n",
    "        plt.show()\n",
    "        break"
   ]
  },
  {
   "cell_type": "code",
   "execution_count": null,
   "metadata": {},
   "outputs": [],
   "source": [
    "modified_fake_music_caps_folder = Path('./PitchShiftedFakeMusicCaps')\n",
    "modified_fake_music_caps_folder.mkdir(exist_ok=True)\n",
    "\n",
    "for folder in data_sets:\n",
    "    folder_path = fmc / folder\n",
    "    print(f\"Writing to {modified_fake_music_caps_folder / folder}\")\n",
    "    for song in folder_path.glob('*.wav'):\n",
    "        destination_folder = Path(modified_fake_music_caps_folder / folder)\n",
    "        destination_folder.mkdir(exist_ok=True)\n",
    "        y, sr = librosa.load(song)\n",
    "        low, high = -2, 2\n",
    "        steps = float((high - low) * np.random.rand() + low)\n",
    "        new_y = librosa.effects.pitch_shift(y=y, sr=sr, n_steps=steps)\n",
    "        print(f\"\\tnew song {song.stem}.wav\")\n",
    "        sf.write(destination_folder / f\"{song.stem}.wav\", new_y, sr, )"
   ]
  },
  {
   "cell_type": "code",
   "execution_count": null,
   "metadata": {},
   "outputs": [],
   "source": [
    "# Create and save spectrograms\n",
    "\n",
    "from matplotlib.backends.backend_agg import FigureCanvasAgg as FigureCanvas\n",
    "import matplotlib\n",
    "matplotlib.use('agg')\n",
    "\n",
    "spectrogram_folder = Path('./Spectrograms/')\n",
    "spectrogram_folder.mkdir(exist_ok=True)\n",
    "\n",
    "for folder in data_sets:\n",
    "    folder_path = fmc / folder\n",
    "    for music in folder_path.glob('*.wav'):\n",
    "        destination_folder = Path(spectrogram_folder / folder)\n",
    "        destination_folder.mkdir(exist_ok=True)\n",
    "        y, sr = librosa.load(music)\n",
    "        mel_signal = librosa.feature.melspectrogram(y=y, sr=sr)\n",
    "        spectrogram = np.abs(mel_signal)\n",
    "        power_to_db = librosa.power_to_db(spectrogram, ref=np.max)\n",
    "        fig = plt.figure(figsize=(8, 7))\n",
    "        canvas = FigureCanvas(fig)\n",
    "        p = librosa.display.specshow(power_to_db, sr=sr, x_axis='time', y_axis='mel', cmap='magma')\n",
    "        fig.savefig(destination_folder / f\"{music.stem}.png\")\n",
    "        plt.close()"
   ]
  },
  {
   "cell_type": "code",
   "execution_count": null,
   "metadata": {},
   "outputs": [],
   "source": [
    "import gc\n",
    "gc.collect()"
   ]
  }
 ],
 "metadata": {
  "kernelspec": {
   "display_name": "cs295t",
   "language": "python",
   "name": "python3"
  },
  "language_info": {
   "codemirror_mode": {
    "name": "ipython",
    "version": 3
   },
   "file_extension": ".py",
   "mimetype": "text/x-python",
   "name": "python",
   "nbconvert_exporter": "python",
   "pygments_lexer": "ipython3",
   "version": "3.11.10"
  }
 },
 "nbformat": 4,
 "nbformat_minor": 2
}
